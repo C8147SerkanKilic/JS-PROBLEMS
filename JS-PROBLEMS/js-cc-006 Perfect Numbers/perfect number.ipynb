{
 "cells": [
  {
   "cell_type": "code",
   "execution_count": null,
   "source": [
    "def perfect(number):\r\n",
    "  toplam = 0\r\n",
    "  for i in range(1,(number//2)+1):\r\n",
    "    if number%i == 0 :\r\n",
    "      toplam += i\r\n",
    "  if toplam == number and toplam != 0 :\r\n",
    "    print(\"it is a perfect number\")\r\n",
    "  else :\r\n",
    "    print(\"it is not a perfect number\")\r\n",
    "\r\n",
    "num = int(input(\"please enter a number\"))\r\n",
    "perfect(num)"
   ],
   "outputs": [],
   "metadata": {}
  }
 ],
 "metadata": {
  "orig_nbformat": 4,
  "language_info": {
   "name": "python"
  }
 },
 "nbformat": 4,
 "nbformat_minor": 2
}